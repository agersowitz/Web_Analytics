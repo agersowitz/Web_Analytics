{
 "cells": [
  {
   "cell_type": "markdown",
   "metadata": {
    "collapsed": true,
    "pycharm": {
     "name": "#%% md\n"
    }
   },
   "source": [
    "## Project # 1\n",
    "\n",
    "For your first project, you are asked to:\n",
    "\n",
    "* Identify and load a network dataset that has some categorical information available for each node.\n",
    "* For each of the nodes in the dataset, calculate degree centrality and eigenvector centrality.\n",
    "* Compare your centrality measures across your categorical groups.\n",
    "\n",
    "For example:\n",
    "        using the dataset from a study of romantic relationships among high school students in Columbus, Ohio\n",
    "        [dataset](http://researchnews.osu.edu/archive/chains.htm)\n",
    "        you might want to determine if there are any differences in your calculated centrality measures between the two sexes.\n",
    "        You might use a t-test or another statistical measure to support your findings.\n",
    "\n"
   ]
  }
 ],
 "metadata": {
  "kernelspec": {
   "display_name": "Python 3",
   "language": "python",
   "name": "python3"
  },
  "language_info": {
   "codemirror_mode": {
    "name": "ipython",
    "version": 2
   },
   "file_extension": ".py",
   "mimetype": "text/x-python",
   "name": "python",
   "nbconvert_exporter": "python",
   "pygments_lexer": "ipython2",
   "version": "2.7.6"
  }
 },
 "nbformat": 4,
 "nbformat_minor": 0
}