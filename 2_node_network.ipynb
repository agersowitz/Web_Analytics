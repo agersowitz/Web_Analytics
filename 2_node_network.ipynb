{
 "cells": [
  {
   "cell_type": "markdown",
   "metadata": {
    "pycharm": {
     "name": "#%% md\n"
    }
   },
   "source": [
    "## BIPARTITE GRAPHS\n",
    "Here is a dataset that shows a simple 2-node network:  the attendance of 18 Southern Women at 14 social events:\n",
    "\n",
    "A bipartite graph consists of two groups of nodes. There are links between nodes of differing groups, but no links among nodes from the same group. Common examples are customers and purchased products or meetups and people attending. Which of the groups a node belongs to can be indicated by the keyword \"bipartite\" and the corresponding group.\n"
   ]
  },
  {
   "cell_type": "markdown",
   "metadata": {},
   "source": [
    "### Packages"
   ]
  },
  {
   "cell_type": "code",
   "execution_count": null,
   "metadata": {
    "collapsed": true
   },
   "outputs": [],
   "source": [
    "import matplotlib.pyplot as plt\n",
    "import networkx as nx\n",
    "import networkx.algorithms.bipartite as bipartite\n",
    "import numpy as np\n",
    "import pandas as pd"
   ]
  },
  {
   "cell_type": "markdown",
   "metadata": {},
   "source": [
    "Davis Southern Women Graph"
   ]
  },
  {
   "cell_type": "code",
   "execution_count": null,
   "metadata": {
    "pycharm": {
     "name": "#%%\n"
    }
   },
   "outputs": [],
   "source": [
    "G = nx.davis_southern_women_graph()\n",
    "women = G.graph[\"top\"]\n",
    "clubs = G.graph[\"bottom\"]\n",
    "c = bipartite.color(G)"
   ]
  },
  {
   "cell_type": "markdown",
   "metadata": {},
   "source": [
    "### Network Info"
   ]
  },
  {
   "cell_type": "code",
   "execution_count": null,
   "metadata": {
    "pycharm": {
     "name": "#%%\n"
    }
   },
   "outputs": [],
   "source": [
    "print(nx.info(G))"
   ]
  },
  {
   "cell_type": "markdown",
   "metadata": {},
   "source": [
    "The graphs, nodes and edges of the two groups of the bipartite graph can easily be extracted."
   ]
  },
  {
   "cell_type": "code",
   "execution_count": null,
   "metadata": {
    "pycharm": {
     "name": "#%%\n"
    }
   },
   "outputs": [],
   "source": [
    "women, clubs = bipartite.sets(G)\n",
    "print(\"First Group:\", women)\n",
    "print(\"Second Group:\", clubs)"
   ]
  },
  {
   "cell_type": "markdown",
   "metadata": {},
   "source": [
    "To represent the bipartite graph, we fix the positions of the nodes according to which group they belong to."
   ]
  },
  {
   "cell_type": "code",
   "execution_count": null,
   "metadata": {
    "pycharm": {
     "name": "#%%\n"
    }
   },
   "outputs": [],
   "source": [
    "pos = dict()\n",
    "pos.update( (n, (1,i)) for i, n in enumerate(women) )\n",
    "pos.update( (n, (2,i)) for i, n in enumerate(clubs) )\n",
    "num_nodes = G.number_of_nodes()\n",
    "cmap = plt.get_cmap('Blues')\n"
   ]
  },
  {
   "cell_type": "markdown",
   "metadata": {},
   "source": [
    "### Bipartile Graph 1\n",
    "By creating this graph we are able to understand the amount of events each women attended.\n",
    "there are some women that stand out from the rest for the amount of events they attended some more than others\n",
    "\n",
    "* THeresa\n",
    "* Katherina\n",
    "* Nora"
   ]
  },
  {
   "cell_type": "code",
   "execution_count": null,
   "metadata": {
    "pycharm": {
     "name": "#%%\n"
    }
   },
   "outputs": [],
   "source": [
    "plt.figure(figsize=(15,15))\n",
    "nx.draw(G,\n",
    "        pos= pos,\n",
    "        with_labels=True,\n",
    "        node_color = np.random.random(num_nodes),\n",
    "        cmap = plt.get_cmap('Oranges'))\n",
    "plt.show()"
   ]
  },
  {
   "cell_type": "markdown",
   "metadata": {
    "pycharm": {
     "name": "#%% md\n"
    }
   },
   "source": [
    "### Relationships\n",
    "How is the original graph related to the original bipartite graph"
   ]
  },
  {
   "cell_type": "code",
   "execution_count": null,
   "metadata": {
    "pycharm": {
     "name": "#%%\n"
    }
   },
   "outputs": [],
   "source": [
    "G_top = bipartite.projected_graph(G, women)\n",
    "G_bottom = bipartite.projected_graph(G, clubs)"
   ]
  },
  {
   "cell_type": "code",
   "execution_count": null,
   "metadata": {
    "pycharm": {
     "name": "#%%\n"
    }
   },
   "outputs": [],
   "source": [
    "print(G_bottom.edges())"
   ]
  },
  {
   "cell_type": "markdown",
   "metadata": {},
   "source": [
    "### Women"
   ]
  },
  {
   "cell_type": "code",
   "execution_count": null,
   "metadata": {
    "pycharm": {
     "name": "#%%\n"
    }
   },
   "outputs": [],
   "source": [
    "nx.draw(G_top, with_labels=True)"
   ]
  },
  {
   "cell_type": "markdown",
   "metadata": {},
   "source": [
    "### Events"
   ]
  },
  {
   "cell_type": "code",
   "execution_count": null,
   "metadata": {
    "pycharm": {
     "name": "#%%\n"
    }
   },
   "outputs": [],
   "source": [
    "nx.draw(G_bottom, with_labels=True)"
   ]
  },
  {
   "cell_type": "markdown",
   "metadata": {},
   "source": [
    "## Centrality Measures\n",
    "### Betweenness Centrality"
   ]
  },
  {
   "cell_type": "code",
   "execution_count": null,
   "metadata": {
    "pycharm": {
     "name": "#%%\n"
    }
   },
   "outputs": [],
   "source": [
    "bc = nx.betweenness_centrality(G)\n",
    "df_bc = pd.DataFrame.from_dict({\n",
    "        'node': list(bc.keys()),\n",
    "        'betweenness': list(bc.values())\n",
    "})\n",
    "df_bc.sort_values('betweenness', ascending=False)"
   ]
  },
  {
   "cell_type": "markdown",
   "metadata": {},
   "source": [
    "### Closeness Centrality"
   ]
  },
  {
   "cell_type": "code",
   "execution_count": null,
   "metadata": {
    "pycharm": {
     "name": "#%%\n"
    }
   },
   "outputs": [],
   "source": [
    "cc = nx.closeness_centrality(G)\n",
    "df_cc = pd.DataFrame.from_dict({\n",
    "        'node': list(cc.keys()),\n",
    "        'closeness': list(cc.values())\n",
    "})\n",
    "df_cc.sort_values('closeness', ascending=True)"
   ]
  },
  {
   "cell_type": "markdown",
   "metadata": {},
   "source": [
    "### Degree Centrality"
   ]
  },
  {
   "cell_type": "code",
   "execution_count": null,
   "metadata": {
    "pycharm": {
     "name": "#%%\n"
    }
   },
   "outputs": [],
   "source": [
    "dc = nx.degree_centrality(G)\n",
    "df_dc = pd.DataFrame.from_dict({\n",
    "        'node': list(dc.keys()),\n",
    "        'degree': list(dc.values())\n",
    "})\n",
    "df_dc.sort_values('degree', ascending=False)"
   ]
  },
  {
   "cell_type": "markdown",
   "metadata": {},
   "source": [
    "### Summary"
   ]
  },
  {
   "cell_type": "code",
   "execution_count": null,
   "metadata": {
    "pycharm": {
     "name": "#%%\n"
    }
   },
   "outputs": [],
   "source": [
    "summary_df = pd.concat([df_bc,df_cc,df_dc], axis=1)\n",
    "summary_df"
   ]
  },
  {
   "cell_type": "markdown",
   "metadata": {},
   "source": [
    "### Centrality Graphs"
   ]
  },
  {
   "cell_type": "code",
   "execution_count": null,
   "metadata": {
    "pycharm": {
     "name": "#%%\n"
    }
   },
   "outputs": [],
   "source": [
    "viz = summary_df.plot.bar(rot=90, subplots=True, figsize=(20,10))"
   ]
  },
  {
   "cell_type": "markdown",
   "metadata": {},
   "source": [
    "## Hierarchical Clustering"
   ]
  },
  {
   "cell_type": "code",
   "execution_count": null,
   "metadata": {
    "pycharm": {
     "name": "#%%\n"
    }
   },
   "outputs": [],
   "source": [
    "cluster = bipartite.average_clustering(G)\n",
    "cluster"
   ]
  },
  {
   "cell_type": "code",
   "execution_count": null,
   "metadata": {
    "pycharm": {
     "name": "#%%\n"
    }
   },
   "outputs": [],
   "source": [
    "cluster_top = bipartite.average_clustering(G, G_top)\n",
    "cluster_top"
   ]
  },
  {
   "cell_type": "code",
   "execution_count": null,
   "metadata": {
    "pycharm": {
     "name": "#%%\n"
    }
   },
   "outputs": [],
   "source": [
    "cluster_bottom = bipartite.average_clustering(G, G_bottom)\n",
    "cluster_bottom"
   ]
  },
  {
   "cell_type": "markdown",
   "metadata": {},
   "source": [
    "### Block Model\n",
    "A block model is a simplified network derived from the original network, where all\n",
    "nodes in a cluster are considered a single node, and all relationships between original\n",
    "nodes become aggregated into relationships between blocks.\n"
   ]
  },
  {
   "cell_type": "code",
   "execution_count": null,
   "metadata": {
    "pycharm": {
     "name": "#%%\n"
    }
   },
   "outputs": [],
   "source": [
    "from collections import defaultdict\n",
    "from scipy.cluster import hierarchy\n",
    "from scipy.spatial import distance\n",
    "\n",
    "\n",
    "def create_hc(G):\n",
    "        \"\"\"Creates hierarchical cluster of graph G from distance matrix\"\"\"\n",
    "        path_length = nx.all_pairs_shortest_path_length(G)\n",
    "        distances = np.zeros((len(G), len(G)))\n",
    "        for u, p in path_length:\n",
    "                for v, d in p.items():\n",
    "                        distances[u][v] = d\n",
    "        # Create hierarchical cluster\n",
    "        Y = distance.squareform(distances)\n",
    "        Z = hierarchy.complete(Y)  # Creates HC using farthest point linkage\n",
    "        # This partition selection is arbitrary, for illustrive purposes\n",
    "        membership = list(hierarchy.fcluster(Z, t=1.15))\n",
    "        # Create collection of lists for blockmodel\n",
    "        partition = defaultdict(list)\n",
    "        for n, p in zip(list(range(len(G))), membership):\n",
    "                partition[p].append(n)\n",
    "        return list(partition.values())\n",
    "\n",
    "\n",
    "G = nx.davis_southern_women_graph()\n",
    "\n",
    "# Extract largest connected component into graph H\n",
    "H = G.subgraph(next(nx.connected_components(G)))\n",
    "# Makes life easier to have consecutively labeled integer nodes\n",
    "H = nx.convert_node_labels_to_integers(H)\n",
    "# Create parititions with hierarchical clustering\n",
    "partitions = create_hc(H)\n",
    "# Build blockmodel graph\n",
    "BM = nx.quotient_graph(H, partitions, relabel=True)\n",
    "\n",
    "# Draw original graph\n",
    "print(\"Original Graph\")\n",
    "pos = nx.spring_layout(H, iterations=100, seed=83)  # Seed for reproducibility\n",
    "plt.figure(figsize=(15,15))\n",
    "plt.subplot(211)\n",
    "nx.draw(H, pos, with_labels=True, node_size=10)\n",
    "\n"
   ]
  },
  {
   "cell_type": "code",
   "execution_count": null,
   "metadata": {
    "pycharm": {
     "name": "#%%\n"
    }
   },
   "outputs": [],
   "source": [
    "# Draw block model with weighted edges and nodes sized by number of internal nodes\n",
    "node_size = [BM.nodes[x][\"nnodes\"] * 10 for x in BM.nodes()]\n",
    "edge_width = [(2 * d[\"weight\"]) for (u, v, d) in BM.edges(data=True)]\n",
    "# Set positions to mean of positions of internal nodes from original graph\n",
    "posBM = {}\n",
    "for n in BM:\n",
    "        xy = np.array([pos[u] for u in BM.nodes[n][\"graph\"]])\n",
    "        posBM[n] = xy.mean(axis=0)\n",
    "\n",
    "print(\"Block Model\")\n",
    "plt.figure(figsize=(15,15))\n",
    "plt.subplot(212)\n",
    "nx.draw(BM, posBM, node_size=node_size, width=edge_width, with_labels=True)\n",
    "plt.axis(\"off\")\n",
    "plt.show()"
   ]
  },
  {
   "cell_type": "markdown",
   "metadata": {},
   "source": [
    "## Island Method"
   ]
  }
 ],
 "metadata": {
  "kernelspec": {
   "display_name": "Python 3",
   "language": "python",
   "name": "python3"
  },
  "language_info": {
   "codemirror_mode": {
    "name": "ipython",
    "version": 3
   },
   "file_extension": ".py",
   "mimetype": "text/x-python",
   "name": "python",
   "nbconvert_exporter": "python",
   "pygments_lexer": "ipython3",
   "version": "3.6.13"
  }
 },
 "nbformat": 4,
 "nbformat_minor": 1
}