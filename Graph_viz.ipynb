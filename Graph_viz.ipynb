{
 "cells": [
  {
   "cell_type": "markdown",
   "metadata": {
    "collapsed": true,
    "pycharm": {
     "name": "#%% md\n"
    }
   },
   "source": [
    "## Graph Visualization\n",
    "\n",
    "* Load a graph database of your choosing from a text file or other source.\n",
    "If you take a large network dataset from the web (such as from Stanford Large Network Dataset Collection),\n",
    "please feel free at this point to load just a small subset of the nodes and edges.\n",
    "Create basic analysis on the graph, including the graph’s diameter,\n",
    "and at least one other metric of your choosing.\n",
    "* You may either code the functions by hand (to build your intuition and insight),\n",
    "or use functions in an existing package.\n",
    "Use a visualization tool of your choice (Neo4j, Gephi, etc.) to display information.\n",
    "* Please record a short video (~ 5 minutes), and submit a link to the video in advance of our meet-up."
   ]
  }
 ],
 "metadata": {
  "kernelspec": {
   "display_name": "Python 3",
   "language": "python",
   "name": "python3"
  },
  "language_info": {
   "codemirror_mode": {
    "name": "ipython",
    "version": 2
   },
   "file_extension": ".py",
   "mimetype": "text/x-python",
   "name": "python",
   "nbconvert_exporter": "python",
   "pygments_lexer": "ipython2",
   "version": "2.7.6"
  }
 },
 "nbformat": 4,
 "nbformat_minor": 0
}